{
 "cells": [
  {
   "cell_type": "code",
   "execution_count": 8,
   "metadata": {},
   "outputs": [],
   "source": [
    "from PIL import Image \n",
    "import glob\n",
    "import os\n",
    "import random\n",
    "\n",
    "j = 0\n",
    "\n",
    "for fn in glob.glob('photos/*.jpg'):\n",
    "    new_ims = []\n",
    "    im = Image.open(fn)\n",
    "    \n",
    "    new_ims.append( im.crop((0, 0, 720, 720)) )\n",
    "    new_ims.append(im.crop((180, 0, 900, 720)) )\n",
    "    new_ims.append(im.crop((360, 0, 1080, 720)) )\n",
    "    \n",
    "    for i in range(5):\n",
    "        xoff = random.randint(20,460)\n",
    "        yoff = random.randint(20,100)\n",
    "        new_ims.append( im.crop((0+xoff, 0+yoff, 1080-(480-xoff), 720-(120-yoff))) )\n",
    "    \n",
    "    for new_im in new_ims:\n",
    "        new_im = new_im.save(str(j) + \"cropped.jpg\") #change to the \"cropped\" folder\n",
    "        j+=1\n",
    "    \n"
   ]
  }
 ],
 "metadata": {
  "kernelspec": {
   "display_name": "Python 3",
   "language": "python",
   "name": "python3"
  },
  "language_info": {
   "codemirror_mode": {
    "name": "ipython",
    "version": 3
   },
   "file_extension": ".py",
   "mimetype": "text/x-python",
   "name": "python",
   "nbconvert_exporter": "python",
   "pygments_lexer": "ipython3",
   "version": "3.7.5"
  }
 },
 "nbformat": 4,
 "nbformat_minor": 2
}
