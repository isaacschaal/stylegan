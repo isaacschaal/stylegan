{
 "cells": [
  {
   "cell_type": "code",
   "execution_count": null,
   "metadata": {},
   "outputs": [],
   "source": [
    "from PIL import Image \n",
    "import glob\n",
    "import os\n",
    "import random\n",
    " \n",
    "#Start the naming\n",
    "j = 0\n",
    "for fn in glob.glob('photos/*.jpg'):\n",
    "    #create an array to store the crops\n",
    "    new_ims = []\n",
    "    #open the image\n",
    "    im = Image.open(fn)\n",
    "    #crop right, center, and left\n",
    "    new_ims.append( im.crop((0, 0, 720, 720)) )\n",
    "    new_ims.append(im.crop((180, 0, 900, 720)) )\n",
    "    new_ims.append(im.crop((360, 0, 1080, 720)) )\n",
    "    #make 5 random crops\n",
    "    for i in range(5):\n",
    "        xoff = random.randint(20,460)\n",
    "        yoff = random.randint(20,100)\n",
    "        new_ims.append( im.crop((0+xoff, 0+yoff, 1080-(480-xoff), 720-(120-yoff))) )\n",
    "    #save the images\n",
    "    for new_im in new_ims:\n",
    "        new_im = new_im.save(str(j) + \"cropped.jpg\") \n",
    "        j+=1"
   ]
  }
 ],
 "metadata": {
  "kernelspec": {
   "display_name": "Python 3",
   "language": "python",
   "name": "python3"
  },
  "language_info": {
   "codemirror_mode": {
    "name": "ipython",
    "version": 3
   },
   "file_extension": ".py",
   "mimetype": "text/x-python",
   "name": "python",
   "nbconvert_exporter": "python",
   "pygments_lexer": "ipython3",
   "version": "3.7.5"
  }
 },
 "nbformat": 4,
 "nbformat_minor": 2
}
